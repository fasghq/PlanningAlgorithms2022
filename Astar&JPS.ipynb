{
  "nbformat": 4,
  "nbformat_minor": 0,
  "metadata": {
    "colab": {
      "provenance": []
    },
    "kernelspec": {
      "name": "python3",
      "display_name": "Python 3"
    },
    "language_info": {
      "name": "python"
    }
  },
  "cells": [
    {
      "cell_type": "markdown",
      "source": [
        "### Import packages"
      ],
      "metadata": {
        "id": "KUdN_AKOklBv"
      }
    },
    {
      "cell_type": "code",
      "source": [
        "!pip install pathfinding"
      ],
      "metadata": {
        "colab": {
          "base_uri": "https://localhost:8080/"
        },
        "id": "3YmAh15yufRJ",
        "outputId": "3de668d4-ac52-4a61-a70f-b65f9d8de8a0"
      },
      "execution_count": 1,
      "outputs": [
        {
          "output_type": "stream",
          "name": "stdout",
          "text": [
            "Looking in indexes: https://pypi.org/simple, https://us-python.pkg.dev/colab-wheels/public/simple/\n",
            "Collecting pathfinding\n",
            "  Downloading pathfinding-1.0.1-py3-none-any.whl (19 kB)\n",
            "Installing collected packages: pathfinding\n",
            "Successfully installed pathfinding-1.0.1\n"
          ]
        }
      ]
    },
    {
      "cell_type": "code",
      "source": [
        "import requests\n",
        "import zipfile\n",
        "import io\n",
        "import os\n",
        "import numpy as np\n",
        "import pandas as pd\n",
        "import matplotlib.pyplot as plt\n",
        "import re\n",
        "from typing import List\n",
        "import pickle\n",
        "import time\n",
        "from IPython.display import display\n",
        "from pathfinding.core.diagonal_movement import DiagonalMovement\n",
        "from pathfinding.core.grid import Grid\n",
        "from pathfinding.finder.a_star import AStarFinder"
      ],
      "metadata": {
        "id": "U6_a8GrcitFk"
      },
      "execution_count": 56,
      "outputs": []
    },
    {
      "cell_type": "markdown",
      "source": [
        "### Data mining"
      ],
      "metadata": {
        "id": "l5BXRdX3ocuI"
      }
    },
    {
      "cell_type": "code",
      "source": [
        "url_string = 'https://www.movingai.com/benchmarks/street/street-map.zip'\n",
        "r = requests.get(url_string, stream=True)\n",
        "z = zipfile.ZipFile(io.BytesIO(r.content))\n",
        "z.extractall('maps')"
      ],
      "metadata": {
        "id": "MdK6_cLAi4C9"
      },
      "execution_count": 3,
      "outputs": []
    },
    {
      "cell_type": "code",
      "source": [
        "url_string = 'https://www.movingai.com/benchmarks/street/street-scen.zip'\n",
        "r = requests.get(url_string, stream=True)\n",
        "z = zipfile.ZipFile(io.BytesIO(r.content))\n",
        "z.extractall('scenarios')"
      ],
      "metadata": {
        "id": "fgLm_ozdk0Kt"
      },
      "execution_count": 4,
      "outputs": []
    },
    {
      "cell_type": "code",
      "source": [
        "url_string = 'https://www.movingai.com/benchmarks/street/street-png.zip'\n",
        "r = requests.get(url_string, stream=True)\n",
        "z = zipfile.ZipFile(io.BytesIO(r.content))\n",
        "z.extractall('images')"
      ],
      "metadata": {
        "id": "UEyrjwUIk_bO"
      },
      "execution_count": 5,
      "outputs": []
    },
    {
      "cell_type": "markdown",
      "source": [
        "### Routines"
      ],
      "metadata": {
        "id": "KA2lIpAAF85V"
      }
    },
    {
      "cell_type": "markdown",
      "source": [
        "#### Work with files"
      ],
      "metadata": {
        "id": "3Zv09uf6L0SB"
      }
    },
    {
      "cell_type": "code",
      "source": [
        "!mkdir results"
      ],
      "metadata": {
        "id": "Tt2kw0CWw9VO"
      },
      "execution_count": 41,
      "outputs": []
    },
    {
      "cell_type": "code",
      "source": [
        "def readMap(fileName: str) -> np.array:\n",
        "    \"\"\"\n",
        "    Read map file, process it and return map object.\n",
        "    While preprocessing maps passable terrain to \n",
        "    True and other to False.\n",
        "    :param fileName: name of file .map\n",
        "    :type fileName: str\n",
        "    :return: shaped preprocessed array with map\n",
        "    :rtype: np.array\n",
        "    \"\"\"\n",
        "    map_path = os.path.join('maps/', fileName)\n",
        "    with open(map_path, 'r') as map_file:\n",
        "        data = map_file.read().split('\\n')\n",
        "        map_height = int(data[1].split()[1])\n",
        "        map_width = int(data[2].split()[1]) \n",
        "        data = \"\".join(data[4:])\n",
        "        #map = [True if x == '.' else False for x in data]\n",
        "        map = [1 if x == '.' else 0 for x in data]\n",
        "        map = np.array(map).reshape(map_width, map_height)\n",
        "    return map"
      ],
      "metadata": {
        "id": "buU6nlVkooXP"
      },
      "execution_count": 6,
      "outputs": []
    },
    {
      "cell_type": "code",
      "source": [
        "def readScenario(fileName: str) -> pd.DataFrame:\n",
        "    \"\"\"\n",
        "    Read scenario file, and return scenario object.\n",
        "    :param fileName: name of file .scen\n",
        "    :type fileName: str\n",
        "    :return: data frame with scenario\n",
        "    :rtype: pd.DataFrame\n",
        "    \"\"\"\n",
        "    col_names = ['i', 'Map name', 'Width', 'Height', 'start_x', 'start_y', 'goal_x', 'goal_y', 'Path length']\n",
        "    df = pd.DataFrame(columns=col_names)\n",
        "    scenario_path = os.path.join('scenarios/', fileName)\n",
        "    with open(scenario_path, 'r') as scenario_file:\n",
        "        data = scenario_file.read().split(\"\\n\")[1:]\n",
        "        for line in data:\n",
        "            try:\n",
        "                row = pd.DataFrame([line.split()], columns=col_names)\n",
        "                df = df.append(row, ignore_index=True)\n",
        "            except:\n",
        "                pass\n",
        "    return df"
      ],
      "metadata": {
        "id": "UmXHTu6e0OdV"
      },
      "execution_count": 7,
      "outputs": []
    },
    {
      "cell_type": "markdown",
      "source": [
        "#### A* algorithm"
      ],
      "metadata": {
        "id": "IZ7qbJr5GErE"
      }
    },
    {
      "cell_type": "code",
      "source": [
        "def plot_astar(map: str, map_size: int, fileName: str, show: bool = False):\n",
        "    \"\"\"\n",
        "    Visualize results of A* algorithm.\n",
        "    :param map: outputted map with path\n",
        "    :type map: str\n",
        "    :param map_size: size of the output map\n",
        "    :type map_size: int\n",
        "    :param fileName: desired name of saved image\n",
        "    :type filename: str\n",
        "    :param show: whether to show the plot\n",
        "    :type show: bool\n",
        "    \"\"\"\n",
        "    map = map.split('\\n')\n",
        "    matrix = []\n",
        "    mapper = {'|': 0, '+': 0, '-': 0, '#': 0, ' ': 1, 's': 2, 'x': 3, 'e': 4}\n",
        "    for row in map:\n",
        "        matrix.append([mapper[x] for x in list(row)])\n",
        "    matrix = np.array(matrix).reshape(map_size, map_size)\n",
        "    plt.ioff()\n",
        "    fig, axs = plt.subplots(figsize=(25, 25))\n",
        "    axs.matshow(matrix, cmap='gist_earth')\n",
        "    plt.savefig('results/' + fileName + '.png')\n",
        "    if show:\n",
        "        plt.show()\n",
        "    else:\n",
        "        plt.close(fig)"
      ],
      "metadata": {
        "id": "5giCiccRHeeZ"
      },
      "execution_count": 71,
      "outputs": []
    },
    {
      "cell_type": "code",
      "source": [
        "def run_astar(map: np.array, start_x: int, start_y: int, goal_x: int, goal_y: int, fileName: str, show: bool = False):\n",
        "    \"\"\"\n",
        "    Run A* algorithm on setted environment.\n",
        "    :param map: map for searching path\n",
        "    :type map: np.array\n",
        "    :param start_x: x coordinape of starting point\n",
        "    :type start_x: int\n",
        "    :param start_y: y coordinape of starting point\n",
        "    :type start_y: int\n",
        "    :param goal_x: x coordinape of ending point\n",
        "    :type goal_x: int\n",
        "    :param goal_y: y coordinape of ending point\n",
        "    :type goal_y: int\n",
        "    :param fileName: name of the map & scen used for output\n",
        "    :type fileName: str\n",
        "    :param show: whether to show the plot\n",
        "    :type show: bool\n",
        "    \"\"\"\n",
        "    grid = Grid(matrix=map)\n",
        "    start = grid.node(start_x, start_y)\n",
        "    end = grid.node(goal_x, goal_y)\n",
        "    finder = AStarFinder(diagonal_movement=DiagonalMovement.always)\n",
        "    t1 = time.perf_counter()\n",
        "    path, runs = finder.find_path(start, end, grid)\n",
        "    t2 = time.perf_counter()\n",
        "    map_with_path = grid.grid_str(path=path, start=start, end=end)\n",
        "\n",
        "    runName = '_' + str(start_x) + '_' + str(start_y) + '_' + str(goal_x) + '_' + str(goal_y) + '_' + 'Astar'\n",
        "    text_file = open('results/' + fileName + runName + '.txt', 'w')\n",
        "    text_file.write(map_with_path)\n",
        "    text_file.close()\n",
        "\n",
        "    plot_astar(map_with_path, map.shape[0] + 2, fileName + runName)\n",
        "\n",
        "    return len(path), runs, t2 - t1"
      ],
      "metadata": {
        "id": "4FfjFT3UKylX"
      },
      "execution_count": 72,
      "outputs": []
    },
    {
      "cell_type": "markdown",
      "source": [
        "#### JPS algorithm"
      ],
      "metadata": {
        "id": "c9R5BRitRH_R"
      }
    },
    {
      "cell_type": "code",
      "source": [],
      "metadata": {
        "id": "kqmav69CkHEv"
      },
      "execution_count": 80,
      "outputs": []
    },
    {
      "cell_type": "markdown",
      "source": [
        "#### Running all"
      ],
      "metadata": {
        "id": "ZZrzIRLoN06q"
      }
    },
    {
      "cell_type": "code",
      "source": [
        "def run(map_size: List = [512], scen_num: int = 1, algoritms: List = ['A*', 'JPS']):\n",
        "    \"\"\"\n",
        "    Run all algorithms on selected maps and scenarios.\n",
        "    While selecting scenario check desired `map_size`\n",
        "    and choose top `scen_num` from descending path\n",
        "    length list.\n",
        "    :param map_size: desired sizes of map\n",
        "    :type map_size: List[int]\n",
        "    :param scen_num: desired amount of scenarios per map\n",
        "    :type scen_num: int\n",
        "    :param algoritms: desired algorithms to run\n",
        "    :type algoritms: List[str]\n",
        "    \"\"\"\n",
        "    col_names = ['Map name', 'Width', 'Height', 'start_x', 'start_y', 'goal_x', 'goal_y', 'Path length', 'Operations', 'Time', 'Algorithm']\n",
        "    res_df = pd.DataFrame(columns=col_names)\n",
        "    \n",
        "    for path in os.listdir('scenarios/'):\n",
        "        name = re.split('_|\\.', path)\n",
        "        if name[1] == '0' and int(name[2]) in map_size:\n",
        "            fileName = name[0] + '_' + name[1] + '_' + name[2]\n",
        "            map = readMap(fileName + '.' + name[3])\n",
        "            scen_df = readScenario(path).iloc[-scen_num:]\n",
        "            for i in range(scen_num):\n",
        "                row = scen_df.iloc[i]\n",
        "                start_x = int(row['start_x'])\n",
        "                start_y = int(row['start_y'])\n",
        "                goal_x = int(row['goal_x'])\n",
        "                goal_y = int(row['goal_y'])\n",
        "                for algorithm in algoritms:\n",
        "                    if algorithm == 'A*':\n",
        "                        path_len, runs, time = run_astar(map, start_x, start_y, goal_x, goal_y, fileName)\n",
        "                        result = [fileName, map.shape[0], map.shape[1], start_x, start_y, goal_x, goal_y, path_len, runs, time, 'A*']\n",
        "                        row = pd.DataFrame([result], columns=col_names)\n",
        "                        res_df = res_df.append(row, ignore_index=True)\n",
        "                    elif algorithm == 'JPS':\n",
        "                        pass\n",
        "                    else:\n",
        "                        pass\n",
        "    res_df.to_pickle('results/results.pkl')"
      ],
      "metadata": {
        "id": "FwOsYuWPw0IQ"
      },
      "execution_count": 78,
      "outputs": []
    },
    {
      "cell_type": "markdown",
      "source": [
        "### Results"
      ],
      "metadata": {
        "id": "t_ZKgTRKwuxu"
      }
    },
    {
      "cell_type": "code",
      "source": [
        "run()"
      ],
      "metadata": {
        "id": "SpUeeJsnU7ke"
      },
      "execution_count": 79,
      "outputs": []
    },
    {
      "cell_type": "code",
      "source": [
        "unpickled_df = pd.read_pickle(\"results/results.pkl\")  \n",
        "unpickled_df.head(100)"
      ],
      "metadata": {
        "colab": {
          "base_uri": "https://localhost:8080/",
          "height": 363
        },
        "id": "1Pyn0_l6dWTu",
        "outputId": "009a8a15-6803-47f1-e687-caaaf12ac9f3"
      },
      "execution_count": 81,
      "outputs": [
        {
          "output_type": "execute_result",
          "data": {
            "text/plain": [
              "         Map name Width Height start_x start_y goal_x goal_y Path length  \\\n",
              "0    Sydney_0_512   512    512      63     510    509     10         545   \n",
              "1    Berlin_0_512   512    512     487     504     14     42         612   \n",
              "2     Paris_0_512   512    512     509      48     12    495         551   \n",
              "3     Milan_0_512   512    512     506     341    110      3         571   \n",
              "4    Denver_0_512   512    512     445       1      8    511         571   \n",
              "5    Boston_0_512   512    512      24     458    263      9         571   \n",
              "6  Shanghai_0_512   512    512     466     491     33      1         526   \n",
              "7    Moscow_0_512   512    512      67     499    502      6         552   \n",
              "8    London_0_512   512    512     214      26     51    199         675   \n",
              "9   NewYork_0_512   512    512     452     486     14      7         545   \n",
              "\n",
              "  Operations       Time Algorithm  \n",
              "0      31189   7.922137        A*  \n",
              "1      35844   9.524996        A*  \n",
              "2      39925  11.558375        A*  \n",
              "3     134604  37.299698        A*  \n",
              "4      41641  10.443288        A*  \n",
              "5     127135  32.294683        A*  \n",
              "6      28465   9.811463        A*  \n",
              "7      16188   3.482897        A*  \n",
              "8      68016  10.164441        A*  \n",
              "9      41103  13.309922        A*  "
            ],
            "text/html": [
              "\n",
              "  <div id=\"df-6fe4aa81-511e-4b73-ab49-a430301b0f78\">\n",
              "    <div class=\"colab-df-container\">\n",
              "      <div>\n",
              "<style scoped>\n",
              "    .dataframe tbody tr th:only-of-type {\n",
              "        vertical-align: middle;\n",
              "    }\n",
              "\n",
              "    .dataframe tbody tr th {\n",
              "        vertical-align: top;\n",
              "    }\n",
              "\n",
              "    .dataframe thead th {\n",
              "        text-align: right;\n",
              "    }\n",
              "</style>\n",
              "<table border=\"1\" class=\"dataframe\">\n",
              "  <thead>\n",
              "    <tr style=\"text-align: right;\">\n",
              "      <th></th>\n",
              "      <th>Map name</th>\n",
              "      <th>Width</th>\n",
              "      <th>Height</th>\n",
              "      <th>start_x</th>\n",
              "      <th>start_y</th>\n",
              "      <th>goal_x</th>\n",
              "      <th>goal_y</th>\n",
              "      <th>Path length</th>\n",
              "      <th>Operations</th>\n",
              "      <th>Time</th>\n",
              "      <th>Algorithm</th>\n",
              "    </tr>\n",
              "  </thead>\n",
              "  <tbody>\n",
              "    <tr>\n",
              "      <th>0</th>\n",
              "      <td>Sydney_0_512</td>\n",
              "      <td>512</td>\n",
              "      <td>512</td>\n",
              "      <td>63</td>\n",
              "      <td>510</td>\n",
              "      <td>509</td>\n",
              "      <td>10</td>\n",
              "      <td>545</td>\n",
              "      <td>31189</td>\n",
              "      <td>7.922137</td>\n",
              "      <td>A*</td>\n",
              "    </tr>\n",
              "    <tr>\n",
              "      <th>1</th>\n",
              "      <td>Berlin_0_512</td>\n",
              "      <td>512</td>\n",
              "      <td>512</td>\n",
              "      <td>487</td>\n",
              "      <td>504</td>\n",
              "      <td>14</td>\n",
              "      <td>42</td>\n",
              "      <td>612</td>\n",
              "      <td>35844</td>\n",
              "      <td>9.524996</td>\n",
              "      <td>A*</td>\n",
              "    </tr>\n",
              "    <tr>\n",
              "      <th>2</th>\n",
              "      <td>Paris_0_512</td>\n",
              "      <td>512</td>\n",
              "      <td>512</td>\n",
              "      <td>509</td>\n",
              "      <td>48</td>\n",
              "      <td>12</td>\n",
              "      <td>495</td>\n",
              "      <td>551</td>\n",
              "      <td>39925</td>\n",
              "      <td>11.558375</td>\n",
              "      <td>A*</td>\n",
              "    </tr>\n",
              "    <tr>\n",
              "      <th>3</th>\n",
              "      <td>Milan_0_512</td>\n",
              "      <td>512</td>\n",
              "      <td>512</td>\n",
              "      <td>506</td>\n",
              "      <td>341</td>\n",
              "      <td>110</td>\n",
              "      <td>3</td>\n",
              "      <td>571</td>\n",
              "      <td>134604</td>\n",
              "      <td>37.299698</td>\n",
              "      <td>A*</td>\n",
              "    </tr>\n",
              "    <tr>\n",
              "      <th>4</th>\n",
              "      <td>Denver_0_512</td>\n",
              "      <td>512</td>\n",
              "      <td>512</td>\n",
              "      <td>445</td>\n",
              "      <td>1</td>\n",
              "      <td>8</td>\n",
              "      <td>511</td>\n",
              "      <td>571</td>\n",
              "      <td>41641</td>\n",
              "      <td>10.443288</td>\n",
              "      <td>A*</td>\n",
              "    </tr>\n",
              "    <tr>\n",
              "      <th>5</th>\n",
              "      <td>Boston_0_512</td>\n",
              "      <td>512</td>\n",
              "      <td>512</td>\n",
              "      <td>24</td>\n",
              "      <td>458</td>\n",
              "      <td>263</td>\n",
              "      <td>9</td>\n",
              "      <td>571</td>\n",
              "      <td>127135</td>\n",
              "      <td>32.294683</td>\n",
              "      <td>A*</td>\n",
              "    </tr>\n",
              "    <tr>\n",
              "      <th>6</th>\n",
              "      <td>Shanghai_0_512</td>\n",
              "      <td>512</td>\n",
              "      <td>512</td>\n",
              "      <td>466</td>\n",
              "      <td>491</td>\n",
              "      <td>33</td>\n",
              "      <td>1</td>\n",
              "      <td>526</td>\n",
              "      <td>28465</td>\n",
              "      <td>9.811463</td>\n",
              "      <td>A*</td>\n",
              "    </tr>\n",
              "    <tr>\n",
              "      <th>7</th>\n",
              "      <td>Moscow_0_512</td>\n",
              "      <td>512</td>\n",
              "      <td>512</td>\n",
              "      <td>67</td>\n",
              "      <td>499</td>\n",
              "      <td>502</td>\n",
              "      <td>6</td>\n",
              "      <td>552</td>\n",
              "      <td>16188</td>\n",
              "      <td>3.482897</td>\n",
              "      <td>A*</td>\n",
              "    </tr>\n",
              "    <tr>\n",
              "      <th>8</th>\n",
              "      <td>London_0_512</td>\n",
              "      <td>512</td>\n",
              "      <td>512</td>\n",
              "      <td>214</td>\n",
              "      <td>26</td>\n",
              "      <td>51</td>\n",
              "      <td>199</td>\n",
              "      <td>675</td>\n",
              "      <td>68016</td>\n",
              "      <td>10.164441</td>\n",
              "      <td>A*</td>\n",
              "    </tr>\n",
              "    <tr>\n",
              "      <th>9</th>\n",
              "      <td>NewYork_0_512</td>\n",
              "      <td>512</td>\n",
              "      <td>512</td>\n",
              "      <td>452</td>\n",
              "      <td>486</td>\n",
              "      <td>14</td>\n",
              "      <td>7</td>\n",
              "      <td>545</td>\n",
              "      <td>41103</td>\n",
              "      <td>13.309922</td>\n",
              "      <td>A*</td>\n",
              "    </tr>\n",
              "  </tbody>\n",
              "</table>\n",
              "</div>\n",
              "      <button class=\"colab-df-convert\" onclick=\"convertToInteractive('df-6fe4aa81-511e-4b73-ab49-a430301b0f78')\"\n",
              "              title=\"Convert this dataframe to an interactive table.\"\n",
              "              style=\"display:none;\">\n",
              "        \n",
              "  <svg xmlns=\"http://www.w3.org/2000/svg\" height=\"24px\"viewBox=\"0 0 24 24\"\n",
              "       width=\"24px\">\n",
              "    <path d=\"M0 0h24v24H0V0z\" fill=\"none\"/>\n",
              "    <path d=\"M18.56 5.44l.94 2.06.94-2.06 2.06-.94-2.06-.94-.94-2.06-.94 2.06-2.06.94zm-11 1L8.5 8.5l.94-2.06 2.06-.94-2.06-.94L8.5 2.5l-.94 2.06-2.06.94zm10 10l.94 2.06.94-2.06 2.06-.94-2.06-.94-.94-2.06-.94 2.06-2.06.94z\"/><path d=\"M17.41 7.96l-1.37-1.37c-.4-.4-.92-.59-1.43-.59-.52 0-1.04.2-1.43.59L10.3 9.45l-7.72 7.72c-.78.78-.78 2.05 0 2.83L4 21.41c.39.39.9.59 1.41.59.51 0 1.02-.2 1.41-.59l7.78-7.78 2.81-2.81c.8-.78.8-2.07 0-2.86zM5.41 20L4 18.59l7.72-7.72 1.47 1.35L5.41 20z\"/>\n",
              "  </svg>\n",
              "      </button>\n",
              "      \n",
              "  <style>\n",
              "    .colab-df-container {\n",
              "      display:flex;\n",
              "      flex-wrap:wrap;\n",
              "      gap: 12px;\n",
              "    }\n",
              "\n",
              "    .colab-df-convert {\n",
              "      background-color: #E8F0FE;\n",
              "      border: none;\n",
              "      border-radius: 50%;\n",
              "      cursor: pointer;\n",
              "      display: none;\n",
              "      fill: #1967D2;\n",
              "      height: 32px;\n",
              "      padding: 0 0 0 0;\n",
              "      width: 32px;\n",
              "    }\n",
              "\n",
              "    .colab-df-convert:hover {\n",
              "      background-color: #E2EBFA;\n",
              "      box-shadow: 0px 1px 2px rgba(60, 64, 67, 0.3), 0px 1px 3px 1px rgba(60, 64, 67, 0.15);\n",
              "      fill: #174EA6;\n",
              "    }\n",
              "\n",
              "    [theme=dark] .colab-df-convert {\n",
              "      background-color: #3B4455;\n",
              "      fill: #D2E3FC;\n",
              "    }\n",
              "\n",
              "    [theme=dark] .colab-df-convert:hover {\n",
              "      background-color: #434B5C;\n",
              "      box-shadow: 0px 1px 3px 1px rgba(0, 0, 0, 0.15);\n",
              "      filter: drop-shadow(0px 1px 2px rgba(0, 0, 0, 0.3));\n",
              "      fill: #FFFFFF;\n",
              "    }\n",
              "  </style>\n",
              "\n",
              "      <script>\n",
              "        const buttonEl =\n",
              "          document.querySelector('#df-6fe4aa81-511e-4b73-ab49-a430301b0f78 button.colab-df-convert');\n",
              "        buttonEl.style.display =\n",
              "          google.colab.kernel.accessAllowed ? 'block' : 'none';\n",
              "\n",
              "        async function convertToInteractive(key) {\n",
              "          const element = document.querySelector('#df-6fe4aa81-511e-4b73-ab49-a430301b0f78');\n",
              "          const dataTable =\n",
              "            await google.colab.kernel.invokeFunction('convertToInteractive',\n",
              "                                                     [key], {});\n",
              "          if (!dataTable) return;\n",
              "\n",
              "          const docLinkHtml = 'Like what you see? Visit the ' +\n",
              "            '<a target=\"_blank\" href=https://colab.research.google.com/notebooks/data_table.ipynb>data table notebook</a>'\n",
              "            + ' to learn more about interactive tables.';\n",
              "          element.innerHTML = '';\n",
              "          dataTable['output_type'] = 'display_data';\n",
              "          await google.colab.output.renderOutput(dataTable, element);\n",
              "          const docLink = document.createElement('div');\n",
              "          docLink.innerHTML = docLinkHtml;\n",
              "          element.appendChild(docLink);\n",
              "        }\n",
              "      </script>\n",
              "    </div>\n",
              "  </div>\n",
              "  "
            ]
          },
          "metadata": {},
          "execution_count": 81
        }
      ]
    }
  ]
}