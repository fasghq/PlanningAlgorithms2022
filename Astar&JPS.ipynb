{
  "nbformat": 4,
  "nbformat_minor": 0,
  "metadata": {
    "colab": {
      "provenance": []
    },
    "kernelspec": {
      "name": "python3",
      "display_name": "Python 3"
    },
    "language_info": {
      "name": "python"
    }
  },
  "cells": [
    {
      "cell_type": "markdown",
      "source": [
        "### Import packages"
      ],
      "metadata": {
        "id": "KUdN_AKOklBv"
      }
    },
    {
      "cell_type": "code",
      "source": [
        "!pip install pathfinding"
      ],
      "metadata": {
        "colab": {
          "base_uri": "https://localhost:8080/"
        },
        "id": "3YmAh15yufRJ",
        "outputId": "1848b502-75f3-4033-ded5-285229156de1"
      },
      "execution_count": null,
      "outputs": [
        {
          "output_type": "stream",
          "name": "stdout",
          "text": [
            "Looking in indexes: https://pypi.org/simple, https://us-python.pkg.dev/colab-wheels/public/simple/\n",
            "Requirement already satisfied: pathfinding in /usr/local/lib/python3.8/dist-packages (1.0.1)\n"
          ]
        }
      ]
    },
    {
      "cell_type": "code",
      "source": [
        "import requests\n",
        "import zipfile\n",
        "import io\n",
        "import os\n",
        "import numpy as np\n",
        "import pandas as pd\n",
        "import matplotlib.pyplot as plt\n",
        "import re\n",
        "from typing import List\n",
        "import pickle\n",
        "import time\n",
        "import itertools\n",
        "import heapq\n",
        "from IPython.display import display\n",
        "from pathfinding.core.diagonal_movement import DiagonalMovement\n",
        "from pathfinding.core.grid import Grid\n",
        "from pathfinding.finder.a_star import AStarFinder"
      ],
      "metadata": {
        "id": "U6_a8GrcitFk"
      },
      "execution_count": null,
      "outputs": []
    },
    {
      "cell_type": "markdown",
      "source": [
        "### Data mining"
      ],
      "metadata": {
        "id": "l5BXRdX3ocuI"
      }
    },
    {
      "cell_type": "code",
      "source": [
        "url_string = 'https://www.movingai.com/benchmarks/street/street-map.zip'\n",
        "r = requests.get(url_string, stream=True)\n",
        "z = zipfile.ZipFile(io.BytesIO(r.content))\n",
        "z.extractall('maps')"
      ],
      "metadata": {
        "id": "MdK6_cLAi4C9"
      },
      "execution_count": null,
      "outputs": []
    },
    {
      "cell_type": "code",
      "source": [
        "url_string = 'https://www.movingai.com/benchmarks/street/street-scen.zip'\n",
        "r = requests.get(url_string, stream=True)\n",
        "z = zipfile.ZipFile(io.BytesIO(r.content))\n",
        "z.extractall('scenarios')"
      ],
      "metadata": {
        "id": "fgLm_ozdk0Kt"
      },
      "execution_count": null,
      "outputs": []
    },
    {
      "cell_type": "code",
      "source": [
        "url_string = 'https://www.movingai.com/benchmarks/street/street-png.zip'\n",
        "r = requests.get(url_string, stream=True)\n",
        "z = zipfile.ZipFile(io.BytesIO(r.content))\n",
        "z.extractall('images')"
      ],
      "metadata": {
        "id": "UEyrjwUIk_bO"
      },
      "execution_count": null,
      "outputs": []
    },
    {
      "cell_type": "markdown",
      "source": [
        "### Routines"
      ],
      "metadata": {
        "id": "KA2lIpAAF85V"
      }
    },
    {
      "cell_type": "markdown",
      "source": [
        "#### Work with files"
      ],
      "metadata": {
        "id": "3Zv09uf6L0SB"
      }
    },
    {
      "cell_type": "code",
      "source": [
        "!mkdir results"
      ],
      "metadata": {
        "id": "Tt2kw0CWw9VO"
      },
      "execution_count": null,
      "outputs": []
    },
    {
      "cell_type": "code",
      "source": [
        "def readMap(fileName: str) -> np.array:\n",
        "    \"\"\"\n",
        "    Read map file, process it and return map object.\n",
        "    While preprocessing maps passable terrain to \n",
        "    True and other to False.\n",
        "    :param fileName: name of file .map\n",
        "    :type fileName: str\n",
        "    :return: shaped preprocessed array with map\n",
        "    :rtype: np.array\n",
        "    \"\"\"\n",
        "    map_path = os.path.join('maps/', fileName)\n",
        "    with open(map_path, 'r') as map_file:\n",
        "        data = map_file.read().split('\\n')\n",
        "        map_height = int(data[1].split()[1])\n",
        "        map_width = int(data[2].split()[1]) \n",
        "        data = \"\".join(data[4:])\n",
        "        #map = [True if x == '.' else False for x in data]\n",
        "        map = [1 if x == '.' else 0 for x in data]\n",
        "        map = np.array(map).reshape(map_width, map_height)\n",
        "    return map"
      ],
      "metadata": {
        "id": "buU6nlVkooXP"
      },
      "execution_count": null,
      "outputs": []
    },
    {
      "cell_type": "code",
      "source": [
        "def readScenario(fileName: str) -> pd.DataFrame:\n",
        "    \"\"\"\n",
        "    Read scenario file, and return scenario object.\n",
        "    :param fileName: name of file .scen\n",
        "    :type fileName: str\n",
        "    :return: data frame with scenario\n",
        "    :rtype: pd.DataFrame\n",
        "    \"\"\"\n",
        "    col_names = ['i', 'Map name', 'Width', 'Height', 'start_x', 'start_y', 'goal_x', 'goal_y', 'Path length']\n",
        "    scenario_path = os.path.join('scenarios/', fileName)\n",
        "    df = pd.read_csv(scenario_path, delim_whitespace=True, header=None, names=col_names, skiprows=1)  \n",
        "    return df"
      ],
      "metadata": {
        "id": "UmXHTu6e0OdV"
      },
      "execution_count": null,
      "outputs": []
    },
    {
      "cell_type": "markdown",
      "source": [
        "#### A* algorithm"
      ],
      "metadata": {
        "id": "IZ7qbJr5GErE"
      }
    },
    {
      "cell_type": "code",
      "source": [
        "def plot_astar(map: str, map_size: int, fileName: str, show: bool = False):\n",
        "    \"\"\"\n",
        "    Visualize results of A* algorithm.\n",
        "    :param map: outputted map with path\n",
        "    :type map: str\n",
        "    :param map_size: size of the output map\n",
        "    :type map_size: int\n",
        "    :param fileName: desired name of saved image\n",
        "    :type filename: str\n",
        "    :param show: whether to show the plot\n",
        "    :type show: bool\n",
        "    \"\"\"\n",
        "    map = map.split('\\n')\n",
        "    matrix = []\n",
        "    mapper = {'|': 0, '+': 0, '-': 0, '#': 0, ' ': 1, 's': 2, 'x': 3, 'e': 4}\n",
        "    for row in map:\n",
        "        matrix.append([mapper[x] for x in list(row)])\n",
        "    matrix = np.array(matrix).reshape(map_size, map_size)\n",
        "    plt.ioff()\n",
        "    fig, axs = plt.subplots(figsize=(25, 25))\n",
        "    axs.matshow(matrix, cmap='gist_earth')\n",
        "    plt.savefig('results/' + fileName + '.png')\n",
        "    if show:\n",
        "        plt.show()\n",
        "    else:\n",
        "        plt.close(fig)"
      ],
      "metadata": {
        "id": "5giCiccRHeeZ"
      },
      "execution_count": null,
      "outputs": []
    },
    {
      "cell_type": "code",
      "source": [
        "def run_astar(map: np.array, start_x: int, start_y: int, goal_x: int, goal_y: int, fileName: str, show: bool = False):\n",
        "    \"\"\"\n",
        "    Run A* algorithm on setted environment.\n",
        "    :param map: map for searching path\n",
        "    :type map: np.array\n",
        "    :param start_x: x coordinape of starting point\n",
        "    :type start_x: int\n",
        "    :param start_y: y coordinape of starting point\n",
        "    :type start_y: int\n",
        "    :param goal_x: x coordinape of ending point\n",
        "    :type goal_x: int\n",
        "    :param goal_y: y coordinape of ending point\n",
        "    :type goal_y: int\n",
        "    :param fileName: name of the map & scen used for output\n",
        "    :type fileName: str\n",
        "    :param show: whether to show the plot\n",
        "    :type show: bool\n",
        "    :return: path length, operations count, time count\n",
        "    :rtype: int, int, int\n",
        "    \"\"\"\n",
        "    grid = Grid(matrix=map)\n",
        "    start = grid.node(start_x, start_y)\n",
        "    end = grid.node(goal_x, goal_y)\n",
        "    finder = AStarFinder(diagonal_movement=DiagonalMovement.always)\n",
        "    t1 = time.perf_counter()\n",
        "    path, runs = finder.find_path(start, end, grid)\n",
        "    t2 = time.perf_counter()\n",
        "    map_with_path = grid.grid_str(path=path, start=start, end=end)\n",
        "\n",
        "    runName = '_' + str(start_x) + '_' + str(start_y) + '_' + str(goal_x) + '_' + str(goal_y) + '_' + 'Astar'\n",
        "    text_file = open('results/' + fileName + runName + '.txt', 'w')\n",
        "    text_file.write(map_with_path)\n",
        "    text_file.close()\n",
        "\n",
        "    plot_astar(map_with_path, map.shape[0] + 2, fileName + runName)\n",
        "\n",
        "    return len(path), runs, t2 - t1"
      ],
      "metadata": {
        "id": "4FfjFT3UKylX"
      },
      "execution_count": null,
      "outputs": []
    },
    {
      "cell_type": "markdown",
      "source": [
        "#### JPS algorithm"
      ],
      "metadata": {
        "id": "c9R5BRitRH_R"
      }
    },
    {
      "cell_type": "markdown",
      "source": [
        "In ps1 realization of A* algorithm we used ordinary `List` as priority queue $Q$, which was sorted in the end of every iteration in order to get the node with minimal value of heuristic function afterwards. Of course, such implementation is not really efficient, although it was adequate to the scale of previous task. In this task we play with much bigger environments, thus we considered to organise priority queue through the [heap queue](https://docs.python.org/3/library/heapq.html) to be reasonable enhancement."
      ],
      "metadata": {
        "id": "AK61HoSZQkjI"
      }
    },
    {
      "cell_type": "code",
      "source": [
        "class PriorityQueue():\n",
        "    \"\"\"\n",
        "    Priority Queue implementation through the `heapq`.\n",
        "    \"\"\"\n",
        "    def __init__(self):\n",
        "        self.pq = []\n",
        "        self.counter = itertools.count()\n",
        "    \n",
        "    def add_task(self, task, priority=0):\n",
        "        \"\"\"\n",
        "        Add a new task.\n",
        "        \"\"\"\n",
        "        count = next(self.counter)\n",
        "        entry = [priority, count, task]\n",
        "        heapq.heappush(self.pq, entry)\n",
        "    \n",
        "    def pop_task(self):\n",
        "        \"\"\"\n",
        "        Remove and return the lowest priority task. \n",
        "        Raise KeyError if empty.\n",
        "        \"\"\"\n",
        "        while self.pq:\n",
        "            priority, count, task = heapq.heappop(self.pq)\n",
        "            return task\n",
        "        raise KeyError('Try to pop from an empty priority queue.')\n",
        "    \n",
        "    def is_empty(self):\n",
        "        return len(self.pq) == 0"
      ],
      "metadata": {
        "id": "kqmav69CkHEv"
      },
      "execution_count": null,
      "outputs": []
    },
    {
      "cell_type": "markdown",
      "source": [
        "Below is implementation of adding new node to Priority Queue $Q$ and used heurisic function."
      ],
      "metadata": {
        "id": "ROVsmnm7PHfR"
      }
    },
    {
      "cell_type": "code",
      "source": [
        "# constants\n",
        "UNEXPLORED = -1\n",
        "OBSTACLE = -2\n",
        "GOAL = -3\n",
        "START = 0\n",
        "SQRT2 = 2**0.5"
      ],
      "metadata": {
        "id": "B516fMcbDYIK"
      },
      "execution_count": null,
      "outputs": []
    },
    {
      "cell_type": "code",
      "source": [
        "def octile(dx, dy):\n",
        "    \"\"\"\n",
        "    Octile distance.\n",
        "    Used for square grid with diagonal movement. Moving along X or Y costs 1\n",
        "    while moving along diagonal requires sqrt(2).\n",
        "    \"\"\"\n",
        "    f = SQRT2 - 1\n",
        "    if dx < dy:\n",
        "        return f * dx + dy\n",
        "    else:\n",
        "        return f * dy + dx"
      ],
      "metadata": {
        "id": "u7AIxOje9VPC"
      },
      "execution_count": null,
      "outputs": []
    },
    {
      "cell_type": "code",
      "source": [
        "def add_jump_point(point):\n",
        "    \"\"\"\n",
        "    Add jump point to Priority Queue.\n",
        "    Octile distance is used in heuristic.\n",
        "    \"\"\"\n",
        "    global field, Q, goal_x, goal_y\n",
        "    if point is not None:\n",
        "        dx = goal_x - point[0]\n",
        "        dy = goal_y - point[1]\n",
        "        Q.add_task(point, field[point[0]][point[1]] + octile(dx, dy))"
      ],
      "metadata": {
        "id": "nSKTUEw5CL7D"
      },
      "execution_count": null,
      "outputs": []
    },
    {
      "cell_type": "markdown",
      "source": [
        "We should preprocess the map provided in `.map` files before applying the JPS to it. As well as both starting and goal points."
      ],
      "metadata": {
        "id": "a2KMoQqxP1P5"
      }
    },
    {
      "cell_type": "code",
      "source": [
        "def preprocess_input(map, start_x: int, start_y: int, end_x: int, end_y: int):\n",
        "    new_map = []\n",
        "    new_map.append([OBSTACLE for _ in range(np.shape(map)[0] + 2)])\n",
        "    for line in map:\n",
        "        new_map.append(np.concatenate(([OBSTACLE], line, [OBSTACLE])).tolist())\n",
        "    new_map.append([OBSTACLE for _ in range(np.shape(map)[0] + 2)])\n",
        "    new_map = np.array(new_map)\n",
        "    new_map[new_map == 0] = OBSTACLE\n",
        "    new_map[new_map == 1] = UNEXPLORED\n",
        "    new_map[start_x][start_y] = START\n",
        "    new_map[end_x][end_y] = GOAL\n",
        "    start_x += 1\n",
        "    start_y += 1\n",
        "    end_x += 1\n",
        "    end_y += 1\n",
        "    return new_map, start_x, start_y, end_x, end_y"
      ],
      "metadata": {
        "id": "IQm4iGojQBnt"
      },
      "execution_count": null,
      "outputs": []
    },
    {
      "cell_type": "markdown",
      "source": [
        "Reconstruction of the entire path from starting point to the goal is shown as follows."
      ],
      "metadata": {
        "id": "ifdLVIwbPcFP"
      }
    },
    {
      "cell_type": "code",
      "source": [
        "def get_jump_points(start_x, start_y):\n",
        "    \"\"\"\n",
        "    Generate the list of jump points from start point to goal point.\n",
        "    :param start_x: the x coordinate of the start point\n",
        "    :type start_x: int\n",
        "    :param start_y: the y coordinate of the start point\n",
        "    :type start_y: int\n",
        "    :return: list of jump points from start point to goal point\n",
        "    :rtype: List((int, int))\n",
        "    \"\"\"\n",
        "    global sources, goal_x, goal_y\n",
        "    result = []\n",
        "    curr_x, curr_y = goal_x, goal_y\n",
        "    while curr_x != start_x or curr_y != start_y:\n",
        "        result.append((curr_x, curr_y))\n",
        "        curr_x, curr_y = sources[curr_x][curr_y]\n",
        "    return [(start_x, start_y)] + result[::-1]"
      ],
      "metadata": {
        "id": "tNxZXJ8qLDyv"
      },
      "execution_count": null,
      "outputs": []
    },
    {
      "cell_type": "code",
      "source": [
        "def get_path(start_x, start_y):\n",
        "    \"\"\"\n",
        "    Reconstruct the path provided with the list of jump points.\n",
        "    :param start_x: the x coordinate of the start point\n",
        "    :type start_x: int\n",
        "    :param start_y: the y coordinate of the start point\n",
        "    :type start_y: int\n",
        "    :return: path from starting point to goal point\n",
        "    :rtype: List((int, int))\n",
        "    \"\"\"\n",
        "    jump_points = get_jump_points(start_x, start_y)\n",
        "    if not jump_points:\n",
        "        return jump_points\n",
        "    curr_x, curr_y = jump_points[0]\n",
        "    path = [(curr_x, curr_y)]\n",
        "    for i in range(len(jump_points) - 1):\n",
        "        while curr_x != jump_points[i + 1][0] or curr_y != jump_points[i + 1][1]:\n",
        "            curr_x += np.sign(jump_points[i + 1][0] - jump_points[i][0])\n",
        "            curr_y += np.sign(jump_points[i + 1][1] - jump_points[i][1])\n",
        "            path.append((curr_x, curr_y))\n",
        "    return path"
      ],
      "metadata": {
        "id": "dDDLzherrlw8"
      },
      "execution_count": null,
      "outputs": []
    },
    {
      "cell_type": "markdown",
      "source": [
        "Here is main routines for diagonal search and non-diagonal one."
      ],
      "metadata": {
        "id": "2co_AN27PnhJ"
      }
    },
    {
      "cell_type": "code",
      "source": [
        "class FoundPath(Exception):\n",
        "    pass"
      ],
      "metadata": {
        "id": "HsvJTvagKzc4"
      },
      "execution_count": null,
      "outputs": []
    },
    {
      "cell_type": "code",
      "source": [
        "def search_non_diagonal(start_x, start_y, dir_x, dir_y):\n",
        "    global field, sources\n",
        "    curr_x, curr_y = start_x, start_y\n",
        "    curr_cost = field[start_x][start_y]\n",
        "    while True:\n",
        "        curr_x += dir_x\n",
        "        curr_y += dir_y\n",
        "        curr_cost += 1\n",
        "        if field[curr_x][curr_y] == UNEXPLORED:\n",
        "            field[curr_x][curr_y] = curr_cost\n",
        "            sources[curr_x][curr_y] = start_x, start_y\n",
        "        elif field[curr_x][curr_y] == GOAL:\n",
        "            field[curr_x][curr_y] = curr_cost\n",
        "            sources[curr_x][curr_y] = start_x, start_y\n",
        "            raise FoundPath()\n",
        "        # elif field[curr_x][curr_y] == OBSTACLE:\n",
        "        #     return None\n",
        "        # else:\n",
        "        #     print(f'{field[curr_x][curr_y] = }')\n",
        "        #     raise ValueError()\n",
        "        else:\n",
        "            return None\n",
        "\n",
        "        if dir_x == 0:\n",
        "            if field[curr_x + 1][curr_y] == OBSTACLE and field[curr_x + 1][curr_y + dir_y] != OBSTACLE:\n",
        "                return (curr_x, curr_y)\n",
        "            if field[curr_x - 1][curr_y] == OBSTACLE and field[curr_x - 1][curr_y + dir_y] != OBSTACLE:\n",
        "                return (curr_x, curr_y)\n",
        "        elif dir_y == 0:\n",
        "            if field[curr_x][curr_y + 1] == OBSTACLE and field[curr_x + dir_x][curr_y + 1] != OBSTACLE:\n",
        "                return (curr_x, curr_y)\n",
        "            if field[curr_x][curr_y - 1] == OBSTACLE and field[curr_x + dir_x][curr_y - 1] != OBSTACLE:\n",
        "                return (curr_x, curr_y)"
      ],
      "metadata": {
        "id": "NyRyjrE81qNa"
      },
      "execution_count": null,
      "outputs": []
    },
    {
      "cell_type": "code",
      "source": [
        "def search_diagonal(start_x, start_y, dir_x, dir_y):\n",
        "    global field, sources\n",
        "    curr_x, curr_y = start_x, start_y\n",
        "    curr_cost = field[start_x][start_y]\n",
        "    while True:\n",
        "        curr_x += dir_x\n",
        "        curr_y += dir_y\n",
        "        curr_cost += SQRT2\n",
        "        if field[curr_x][curr_y] == UNEXPLORED:\n",
        "            field[curr_x][curr_y] = curr_cost\n",
        "            sources[curr_x][curr_y] = start_x, start_y\n",
        "        elif field[curr_x][curr_y] == GOAL:\n",
        "            field[curr_x][curr_y] = curr_cost\n",
        "            sources[curr_x][curr_y] = start_x, start_y\n",
        "            raise FoundPath()\n",
        "        else:\n",
        "            return None\n",
        "        if field[curr_x + dir_x][curr_y] == OBSTACLE and field[curr_x + dir_x][curr_y + dir_y] != OBSTACLE:\n",
        "            return (curr_x, curr_y)\n",
        "        else: \n",
        "            #jump_point = search_non_diagonal(curr_x, curr_y, dir_x, 0)\n",
        "            #if jump_point is not None:\n",
        "            #    return (curr_x, curr_y)\n",
        "            add_jump_point(search_non_diagonal(curr_x, curr_y, dir_x, 0))\n",
        "        if field[curr_x][curr_y + dir_y] == OBSTACLE and field[curr_x + dir_x][curr_y + dir_y] != OBSTACLE:\n",
        "            return (curr_x, curr_y)\n",
        "        else:\n",
        "            #jump_point = search_non_diagonal(curr_x, curr_y, 0, dir_y)\n",
        "            #if jump_point is not None:\n",
        "            #    return (curr_x, curr_y)\n",
        "            add_jump_point(search_non_diagonal(curr_x, curr_y, 0, dir_y))"
      ],
      "metadata": {
        "id": "Z01Q0Ts97zlO"
      },
      "execution_count": null,
      "outputs": []
    },
    {
      "cell_type": "code",
      "source": [
        "def run_jps(map: np.array, start_x: int, start_y: int, end_x: int, end_y: int, fileName: str, show: bool = False):\n",
        "    \"\"\"\n",
        "    Run JPS algorithm on setted environment.\n",
        "    :param map: map for searching path\n",
        "    :type map: np.array\n",
        "    :param start_x: x coordinape of starting point\n",
        "    :type start_x: int\n",
        "    :param start_y: y coordinape of starting point\n",
        "    :type start_y: int\n",
        "    :param end_x: x coordinape of ending point\n",
        "    :type end_x: int\n",
        "    :param end_y: y coordinape of ending point\n",
        "    :type end_y: int\n",
        "    :param fileName: name of the map & scen used for output\n",
        "    :type fileName: str\n",
        "    :param show: whether to show the plot\n",
        "    :type show: bool\n",
        "    :return: path length, operations count, time count\n",
        "    :rtype: int, int, int\n",
        "    \"\"\"\n",
        "    global field, sources, Q, goal_x, goal_y\n",
        "    goal_x, goal_y = end_x, end_y \n",
        "    field = np.array([[i for i in j] for j in map])\n",
        "    #field = map.copy()\n",
        "    sources = [[(None, None) for i in field[0]] for j in field]\n",
        "    Q = PriorityQueue()\n",
        "    add_jump_point((start_x, start_y))\n",
        "\n",
        "    while not Q.is_empty():\n",
        "        point_x, point_y = Q.pop_task()\n",
        "        try:\n",
        "            add_jump_point(search_non_diagonal(point_x, point_y, 1, 0))\n",
        "            add_jump_point(search_non_diagonal(point_x, point_y, -1, 0))\n",
        "            add_jump_point(search_non_diagonal(point_x, point_y, 0, 1))\n",
        "            add_jump_point(search_non_diagonal(point_x, point_y, 0, -1))\n",
        "            add_jump_point(search_diagonal(point_x, point_y, 1, 1))\n",
        "            add_jump_point(search_diagonal(point_x, point_y, 1, -1))\n",
        "            add_jump_point(search_diagonal(point_x, point_y, -1, 1))\n",
        "            add_jump_point(search_diagonal(point_x, point_y, -1, -1))\n",
        "        except FoundPath:\n",
        "            return get_path(start_x, start_y)\n",
        "    raise ValueError(\"No path is found\")\n"
      ],
      "metadata": {
        "id": "kdo4370PZzI-"
      },
      "execution_count": null,
      "outputs": []
    },
    {
      "cell_type": "code",
      "source": [
        "map = [                       \n",
        "[-2, -2, -2, -2, -2, -2, -2, -2, -2, -2], \n",
        "[-2,  -1,  -1,  -1,  -1,  -1,  -1,  -1,  -1, -2], \n",
        "[-2,  -1,  -1,  -1,  -1,  -1,  -1,  -1,  -1, -2], \n",
        "[-2,  -1,  -1,  -1,  -1, -2,  -1,  -1,  -1, -2], \n",
        "[-2,  -1,  -1,  -1,  -1, -2, -2,  -1,  -1, -2], \n",
        "[-2,  -1,  -1, -2, -2, -2,  -1,  -1,  -1, -2], \n",
        "[-2,  -1,  -1,  -1,  -1,  -1,  -1,  -1,  -1, -2], \n",
        "[-2,  -1,  -1,  -1,  -1,  -1,  -1,  -1,  -1, -2], \n",
        "[-2,  -1,  -1,  -1,  -1,  -1,  -1,  -1,  -1, -2], \n",
        "[-2, -2, -2, -2, -2, -2, -2, -2, -2, -2] ]\n",
        "#print(field[0][0])\n",
        "path = run_jps(map, 3, 2, 8, 8, '')\n",
        "print(len(path))"
      ],
      "metadata": {
        "colab": {
          "base_uri": "https://localhost:8080/",
          "height": 406
        },
        "id": "VYTSou9JaBsz",
        "outputId": "74821185-cdaf-4f09-98a3-165315f41b84"
      },
      "execution_count": null,
      "outputs": [
        {
          "output_type": "stream",
          "name": "stdout",
          "text": [
            "field[curr_x][curr_y] = 2\n"
          ]
        },
        {
          "output_type": "error",
          "ename": "ValueError",
          "evalue": "ignored",
          "traceback": [
            "\u001b[0;31m---------------------------------------------------------------------------\u001b[0m",
            "\u001b[0;31mValueError\u001b[0m                                Traceback (most recent call last)",
            "\u001b[0;32m<ipython-input-39-5f8cc4bb5de6>\u001b[0m in \u001b[0;36m<module>\u001b[0;34m\u001b[0m\n\u001b[1;32m     11\u001b[0m [-2, -2, -2, -2, -2, -2, -2, -2, -2, -2] ]\n\u001b[1;32m     12\u001b[0m \u001b[0;31m#print(field[0][0])\u001b[0m\u001b[0;34m\u001b[0m\u001b[0;34m\u001b[0m\u001b[0;34m\u001b[0m\u001b[0m\n\u001b[0;32m---> 13\u001b[0;31m \u001b[0mpath\u001b[0m \u001b[0;34m=\u001b[0m \u001b[0mrun_jps\u001b[0m\u001b[0;34m(\u001b[0m\u001b[0mmap\u001b[0m\u001b[0;34m,\u001b[0m \u001b[0;36m3\u001b[0m\u001b[0;34m,\u001b[0m \u001b[0;36m2\u001b[0m\u001b[0;34m,\u001b[0m \u001b[0;36m8\u001b[0m\u001b[0;34m,\u001b[0m \u001b[0;36m8\u001b[0m\u001b[0;34m,\u001b[0m \u001b[0;34m''\u001b[0m\u001b[0;34m)\u001b[0m\u001b[0;34m\u001b[0m\u001b[0;34m\u001b[0m\u001b[0m\n\u001b[0m\u001b[1;32m     14\u001b[0m \u001b[0mprint\u001b[0m\u001b[0;34m(\u001b[0m\u001b[0mlen\u001b[0m\u001b[0;34m(\u001b[0m\u001b[0mpath\u001b[0m\u001b[0;34m)\u001b[0m\u001b[0;34m)\u001b[0m\u001b[0;34m\u001b[0m\u001b[0;34m\u001b[0m\u001b[0m\n",
            "\u001b[0;32m<ipython-input-38-9fb56759dfd5>\u001b[0m in \u001b[0;36mrun_jps\u001b[0;34m(map, start_x, start_y, goal_x, goal_y, fileName, show)\u001b[0m\n\u001b[1;32m     38\u001b[0m         \u001b[0mpoint_x\u001b[0m\u001b[0;34m,\u001b[0m \u001b[0mpoint_y\u001b[0m \u001b[0;34m=\u001b[0m \u001b[0mpq\u001b[0m\u001b[0;34m.\u001b[0m\u001b[0mpop_task\u001b[0m\u001b[0;34m(\u001b[0m\u001b[0;34m)\u001b[0m\u001b[0;34m\u001b[0m\u001b[0;34m\u001b[0m\u001b[0m\n\u001b[1;32m     39\u001b[0m         \u001b[0;32mtry\u001b[0m\u001b[0;34m:\u001b[0m\u001b[0;34m\u001b[0m\u001b[0;34m\u001b[0m\u001b[0m\n\u001b[0;32m---> 40\u001b[0;31m             \u001b[0madd_jump_point\u001b[0m\u001b[0;34m(\u001b[0m\u001b[0msearch_non_diagonal\u001b[0m\u001b[0;34m(\u001b[0m\u001b[0mpoint_x\u001b[0m\u001b[0;34m,\u001b[0m \u001b[0mpoint_y\u001b[0m\u001b[0;34m,\u001b[0m \u001b[0;36m1\u001b[0m\u001b[0;34m,\u001b[0m \u001b[0;36m0\u001b[0m\u001b[0;34m,\u001b[0m \u001b[0mgoal_x\u001b[0m\u001b[0;34m,\u001b[0m \u001b[0mgoal_y\u001b[0m\u001b[0;34m)\u001b[0m\u001b[0;34m,\u001b[0m \u001b[0mgoal_x\u001b[0m\u001b[0;34m,\u001b[0m \u001b[0mgoal_y\u001b[0m\u001b[0;34m)\u001b[0m\u001b[0;34m\u001b[0m\u001b[0;34m\u001b[0m\u001b[0m\n\u001b[0m\u001b[1;32m     41\u001b[0m             \u001b[0madd_jump_point\u001b[0m\u001b[0;34m(\u001b[0m\u001b[0msearch_non_diagonal\u001b[0m\u001b[0;34m(\u001b[0m\u001b[0mpoint_x\u001b[0m\u001b[0;34m,\u001b[0m \u001b[0mpoint_y\u001b[0m\u001b[0;34m,\u001b[0m \u001b[0;34m-\u001b[0m\u001b[0;36m1\u001b[0m\u001b[0;34m,\u001b[0m \u001b[0;36m0\u001b[0m\u001b[0;34m,\u001b[0m \u001b[0mgoal_x\u001b[0m\u001b[0;34m,\u001b[0m \u001b[0mgoal_y\u001b[0m\u001b[0;34m)\u001b[0m\u001b[0;34m,\u001b[0m \u001b[0mgoal_x\u001b[0m\u001b[0;34m,\u001b[0m \u001b[0mgoal_y\u001b[0m\u001b[0;34m)\u001b[0m\u001b[0;34m\u001b[0m\u001b[0;34m\u001b[0m\u001b[0m\n\u001b[1;32m     42\u001b[0m             \u001b[0madd_jump_point\u001b[0m\u001b[0;34m(\u001b[0m\u001b[0msearch_non_diagonal\u001b[0m\u001b[0;34m(\u001b[0m\u001b[0mpoint_x\u001b[0m\u001b[0;34m,\u001b[0m \u001b[0mpoint_y\u001b[0m\u001b[0;34m,\u001b[0m \u001b[0;36m0\u001b[0m\u001b[0;34m,\u001b[0m \u001b[0;36m1\u001b[0m\u001b[0;34m,\u001b[0m \u001b[0mgoal_x\u001b[0m\u001b[0;34m,\u001b[0m \u001b[0mgoal_y\u001b[0m\u001b[0;34m)\u001b[0m\u001b[0;34m,\u001b[0m \u001b[0mgoal_x\u001b[0m\u001b[0;34m,\u001b[0m \u001b[0mgoal_y\u001b[0m\u001b[0;34m)\u001b[0m\u001b[0;34m\u001b[0m\u001b[0;34m\u001b[0m\u001b[0m\n",
            "\u001b[0;32m<ipython-input-36-f2b86319eea0>\u001b[0m in \u001b[0;36msearch_non_diagonal\u001b[0;34m(start_x, start_y, dir_x, dir_y, goal_x, goal_y)\u001b[0m\n\u001b[1;32m     18\u001b[0m         \u001b[0;32melse\u001b[0m\u001b[0;34m:\u001b[0m\u001b[0;34m\u001b[0m\u001b[0;34m\u001b[0m\u001b[0m\n\u001b[1;32m     19\u001b[0m             \u001b[0mprint\u001b[0m\u001b[0;34m(\u001b[0m\u001b[0;34mf'{field[curr_x][curr_y] = }'\u001b[0m\u001b[0;34m)\u001b[0m\u001b[0;34m\u001b[0m\u001b[0;34m\u001b[0m\u001b[0m\n\u001b[0;32m---> 20\u001b[0;31m             \u001b[0;32mraise\u001b[0m \u001b[0mValueError\u001b[0m\u001b[0;34m(\u001b[0m\u001b[0;34m)\u001b[0m\u001b[0;34m\u001b[0m\u001b[0;34m\u001b[0m\u001b[0m\n\u001b[0m\u001b[1;32m     21\u001b[0m \u001b[0;34m\u001b[0m\u001b[0m\n\u001b[1;32m     22\u001b[0m         \u001b[0;32mif\u001b[0m \u001b[0mdir_x\u001b[0m \u001b[0;34m==\u001b[0m \u001b[0;36m0\u001b[0m\u001b[0;34m:\u001b[0m\u001b[0;34m\u001b[0m\u001b[0;34m\u001b[0m\u001b[0m\n",
            "\u001b[0;31mValueError\u001b[0m: "
          ]
        }
      ]
    },
    {
      "cell_type": "code",
      "source": [
        "map = readMap('Berlin_0_512.map')\n",
        "df = readScenario('Berlin_0_512.map.scen').iloc[-1:]\n",
        "start_y = int(df['start_x'])\n",
        "start_x = int(df['start_y'])\n",
        "end_y = int(df['goal_x'])\n",
        "end_x = int(df['goal_y'])\n",
        "mapp, start_xp, start_yp, end_xp, end_yp = preprocess_input(map, start_x, start_y, end_x, end_y)\n",
        "#print(map[0])\n",
        "path = run_jps(mapp, start_xp, start_yp, end_xp, end_yp, '')\n",
        "print(len(path))"
      ],
      "metadata": {
        "colab": {
          "base_uri": "https://localhost:8080/",
          "height": 305
        },
        "id": "4lYOEysrMEcw",
        "outputId": "42aef5fe-22eb-4e08-9cb0-f20e8b69addd"
      },
      "execution_count": null,
      "outputs": [
        {
          "output_type": "error",
          "ename": "ValueError",
          "evalue": "ignored",
          "traceback": [
            "\u001b[0;31m---------------------------------------------------------------------------\u001b[0m",
            "\u001b[0;31mValueError\u001b[0m                                Traceback (most recent call last)",
            "\u001b[0;32m<ipython-input-22-dd502b7cf632>\u001b[0m in \u001b[0;36m<module>\u001b[0;34m\u001b[0m\n\u001b[1;32m      7\u001b[0m \u001b[0mmapp\u001b[0m\u001b[0;34m,\u001b[0m \u001b[0mstart_xp\u001b[0m\u001b[0;34m,\u001b[0m \u001b[0mstart_yp\u001b[0m\u001b[0;34m,\u001b[0m \u001b[0mend_xp\u001b[0m\u001b[0;34m,\u001b[0m \u001b[0mend_yp\u001b[0m \u001b[0;34m=\u001b[0m \u001b[0mpreprocess_input\u001b[0m\u001b[0;34m(\u001b[0m\u001b[0mmap\u001b[0m\u001b[0;34m,\u001b[0m \u001b[0mstart_x\u001b[0m\u001b[0;34m,\u001b[0m \u001b[0mstart_y\u001b[0m\u001b[0;34m,\u001b[0m \u001b[0mend_x\u001b[0m\u001b[0;34m,\u001b[0m \u001b[0mend_y\u001b[0m\u001b[0;34m)\u001b[0m\u001b[0;34m\u001b[0m\u001b[0;34m\u001b[0m\u001b[0m\n\u001b[1;32m      8\u001b[0m \u001b[0;31m#print(map[0])\u001b[0m\u001b[0;34m\u001b[0m\u001b[0;34m\u001b[0m\u001b[0;34m\u001b[0m\u001b[0m\n\u001b[0;32m----> 9\u001b[0;31m \u001b[0mpath\u001b[0m \u001b[0;34m=\u001b[0m \u001b[0mrun_jps\u001b[0m\u001b[0;34m(\u001b[0m\u001b[0mmapp\u001b[0m\u001b[0;34m,\u001b[0m \u001b[0mstart_xp\u001b[0m\u001b[0;34m,\u001b[0m \u001b[0mstart_yp\u001b[0m\u001b[0;34m,\u001b[0m \u001b[0mend_xp\u001b[0m\u001b[0;34m,\u001b[0m \u001b[0mend_yp\u001b[0m\u001b[0;34m,\u001b[0m \u001b[0;34m''\u001b[0m\u001b[0;34m)\u001b[0m\u001b[0;34m\u001b[0m\u001b[0;34m\u001b[0m\u001b[0m\n\u001b[0m\u001b[1;32m     10\u001b[0m \u001b[0mprint\u001b[0m\u001b[0;34m(\u001b[0m\u001b[0mlen\u001b[0m\u001b[0;34m(\u001b[0m\u001b[0mpath\u001b[0m\u001b[0;34m)\u001b[0m\u001b[0;34m)\u001b[0m\u001b[0;34m\u001b[0m\u001b[0;34m\u001b[0m\u001b[0m\n",
            "\u001b[0;32m<ipython-input-18-c943321843d6>\u001b[0m in \u001b[0;36mrun_jps\u001b[0;34m(map, start_x, start_y, end_x, end_y, fileName, show)\u001b[0m\n\u001b[1;32m     40\u001b[0m         \u001b[0;32mexcept\u001b[0m \u001b[0mFoundPath\u001b[0m\u001b[0;34m:\u001b[0m\u001b[0;34m\u001b[0m\u001b[0;34m\u001b[0m\u001b[0m\n\u001b[1;32m     41\u001b[0m             \u001b[0;32mreturn\u001b[0m \u001b[0mget_path\u001b[0m\u001b[0;34m(\u001b[0m\u001b[0mstart_x\u001b[0m\u001b[0;34m,\u001b[0m \u001b[0mstart_y\u001b[0m\u001b[0;34m)\u001b[0m\u001b[0;34m\u001b[0m\u001b[0;34m\u001b[0m\u001b[0m\n\u001b[0;32m---> 42\u001b[0;31m     \u001b[0;32mraise\u001b[0m \u001b[0mValueError\u001b[0m\u001b[0;34m(\u001b[0m\u001b[0;34m\"No path is found\"\u001b[0m\u001b[0;34m)\u001b[0m\u001b[0;34m\u001b[0m\u001b[0;34m\u001b[0m\u001b[0m\n\u001b[0m",
            "\u001b[0;31mValueError\u001b[0m: No path is found"
          ]
        }
      ]
    },
    {
      "cell_type": "code",
      "source": [
        "field = []\n",
        "field.append([-2 for _ in range(np.shape(map)[0] + 2)])\n",
        "for line in map:\n",
        "    field.append(np.concatenate(([-2], line, [-2])).tolist())\n",
        "field.append([-2 for _ in range(np.shape(map)[0] + 2)])\n",
        "field = np.array(field)\n",
        "field[field == 0] = -2\n",
        "field[field == 1] = -1\n",
        "for point in full_path:\n",
        "    field[point[0]][point[1]] = 0\n",
        "fig, axs = plt.subplots(figsize=(15, 15))\n",
        "axs.matshow(field, cmap='gist_earth')\n",
        "plt.show()"
      ],
      "metadata": {
        "colab": {
          "base_uri": "https://localhost:8080/",
          "height": 867
        },
        "id": "c0NKmcsUs990",
        "outputId": "fa766ab1-3a24-4762-f596-e35d8a67f322"
      },
      "execution_count": null,
      "outputs": [
        {
          "output_type": "display_data",
          "data": {
            "text/plain": [
              "<Figure size 1080x1080 with 1 Axes>"
            ],
            "image/png": "[encoded data removed]"
          },
          "metadata": {
            "needs_background": "light"
          }
        }
      ]
    },
    {
      "cell_type": "code",
      "source": [
        "def plot_jps(map: str, map_size: int, fileName: str, show: bool = False):\n",
        "    \"\"\"\n",
        "    Visualize results of A* algorithm.\n",
        "    :param map: outputted map with path\n",
        "    :type map: str\n",
        "    :param map_size: size of the output map\n",
        "    :type map_size: int\n",
        "    :param fileName: desired name of saved image\n",
        "    :type filename: str\n",
        "    :param show: whether to show the plot\n",
        "    :type show: bool\n",
        "    \"\"\"\n",
        "    map = map.split('\\n')\n",
        "    matrix = []\n",
        "    mapper = {'|': 0, '+': 0, '-': 0, '#': 0, ' ': 1, 's': 2, 'x': 3, 'e': 4}\n",
        "    for row in map:\n",
        "        matrix.append([mapper[x] for x in list(row)])\n",
        "    matrix = np.array(matrix).reshape(map_size, map_size)\n",
        "    plt.ioff()\n",
        "    fig, axs = plt.subplots(figsize=(25, 25))\n",
        "    axs.matshow(matrix, cmap='gist_earth')\n",
        "    plt.savefig('results/' + fileName + '.png')\n",
        "    if show:\n",
        "        plt.show()\n",
        "    else:\n",
        "        plt.close(fig)"
      ],
      "metadata": {
        "id": "A55yaiILsOQ-"
      },
      "execution_count": null,
      "outputs": []
    },
    {
      "cell_type": "markdown",
      "source": [
        "#### Running all"
      ],
      "metadata": {
        "id": "ZZrzIRLoN06q"
      }
    },
    {
      "cell_type": "code",
      "source": [
        "def run(map_size: List = [512], scen_num: int = 1, algoritms: List = ['A*', 'JPS']):\n",
        "    \"\"\"\n",
        "    Run all algorithms on selected maps and scenarios.\n",
        "    While selecting scenario check desired `map_size`\n",
        "    and choose top `scen_num` from descending path\n",
        "    length list.\n",
        "    :param map_size: desired sizes of map\n",
        "    :type map_size: List[int]\n",
        "    :param scen_num: desired amount of scenarios per map\n",
        "    :type scen_num: int\n",
        "    :param algoritms: desired algorithms to run\n",
        "    :type algoritms: List[str]\n",
        "    \"\"\"\n",
        "    col_names = ['Map name', 'Width', 'Height', 'start_x', 'start_y', 'goal_x', 'goal_y', 'Path length', 'Operations', 'Time', 'Algorithm']\n",
        "    res_df = pd.DataFrame(columns=col_names)\n",
        "    \n",
        "    for path in os.listdir('scenarios/'):\n",
        "        name = re.split('_|\\.', path)\n",
        "        if name[1] == '0' and int(name[2]) in map_size:\n",
        "            fileName = name[0] + '_' + name[1] + '_' + name[2]\n",
        "            map = readMap(fileName + '.' + name[3])\n",
        "            scen_df = readScenario(path).iloc[-scen_num:]\n",
        "            for i in range(scen_num):\n",
        "                row = scen_df.iloc[i]\n",
        "                start_x = int(row['start_x'])\n",
        "                start_y = int(row['start_y'])\n",
        "                goal_x = int(row['goal_x'])\n",
        "                goal_y = int(row['goal_y'])\n",
        "                for algorithm in algoritms:\n",
        "                    if algorithm == 'A*':\n",
        "                        path_len, runs, time = run_astar(map, start_x, start_y, goal_x, goal_y, fileName)\n",
        "                        result = [fileName, map.shape[0], map.shape[1], start_x, start_y, goal_x, goal_y, path_len, runs, time, 'A*']\n",
        "                        row = pd.DataFrame([result], columns=col_names)\n",
        "                        res_df = res_df.append(row, ignore_index=True)\n",
        "                    elif algorithm == 'JPS':\n",
        "                        pass\n",
        "                    else:\n",
        "                        pass\n",
        "    res_df.to_pickle('results/results.pkl')"
      ],
      "metadata": {
        "id": "FwOsYuWPw0IQ"
      },
      "execution_count": null,
      "outputs": []
    },
    {
      "cell_type": "markdown",
      "source": [
        "### Results"
      ],
      "metadata": {
        "id": "t_ZKgTRKwuxu"
      }
    },
    {
      "cell_type": "code",
      "source": [
        "run()"
      ],
      "metadata": {
        "id": "SpUeeJsnU7ke"
      },
      "execution_count": null,
      "outputs": []
    },
    {
      "cell_type": "code",
      "source": [
        "unpickled_df = pd.read_pickle(\"results/results.pkl\")  \n",
        "unpickled_df.head(100)"
      ],
      "metadata": {
        "colab": {
          "base_uri": "https://localhost:8080/",
          "height": 363
        },
        "id": "1Pyn0_l6dWTu",
        "outputId": "34eadedb-a3cb-4876-ee2b-e47c06058461"
      },
      "execution_count": null,
      "outputs": [
        {
          "output_type": "execute_result",
          "data": {
            "text/plain": [
              "         Map name Width Height start_x start_y goal_x goal_y Path length  \\\n",
              "0     Paris_0_512   512    512     509      48     12    495         551   \n",
              "1    Berlin_0_512   512    512     487     504     14     42         612   \n",
              "2  Shanghai_0_512   512    512     466     491     33      1         526   \n",
              "3    Boston_0_512   512    512      24     458    263      9         571   \n",
              "4    Denver_0_512   512    512     445       1      8    511         571   \n",
              "5     Milan_0_512   512    512     506     341    110      3         571   \n",
              "6    London_0_512   512    512     214      26     51    199         675   \n",
              "7   NewYork_0_512   512    512     452     486     14      7         545   \n",
              "8    Moscow_0_512   512    512      67     499    502      6         552   \n",
              "9    Sydney_0_512   512    512      63     510    509     10         545   \n",
              "\n",
              "  Operations       Time Algorithm  \n",
              "0      39925  11.650400        A*  \n",
              "1      35844  10.791809        A*  \n",
              "2      28465   8.527070        A*  \n",
              "3     127135  32.127829        A*  \n",
              "4      41641  10.578429        A*  \n",
              "5     134604  37.937904        A*  \n",
              "6      68016  10.317416        A*  \n",
              "7      41103  14.148155        A*  \n",
              "8      16188   3.537226        A*  \n",
              "9      31189   8.190929        A*  "
            ],
            "text/html": [
              "\n",
              "  <div id=\"df-a2c45132-9d36-4961-ae34-055b042cd302\">\n",
              "    <div class=\"colab-df-container\">\n",
              "      <div>\n",
              "<style scoped>\n",
              "    .dataframe tbody tr th:only-of-type {\n",
              "        vertical-align: middle;\n",
              "    }\n",
              "\n",
              "    .dataframe tbody tr th {\n",
              "        vertical-align: top;\n",
              "    }\n",
              "\n",
              "    .dataframe thead th {\n",
              "        text-align: right;\n",
              "    }\n",
              "</style>\n",
              "<table border=\"1\" class=\"dataframe\">\n",
              "  <thead>\n",
              "    <tr style=\"text-align: right;\">\n",
              "      <th></th>\n",
              "      <th>Map name</th>\n",
              "      <th>Width</th>\n",
              "      <th>Height</th>\n",
              "      <th>start_x</th>\n",
              "      <th>start_y</th>\n",
              "      <th>goal_x</th>\n",
              "      <th>goal_y</th>\n",
              "      <th>Path length</th>\n",
              "      <th>Operations</th>\n",
              "      <th>Time</th>\n",
              "      <th>Algorithm</th>\n",
              "    </tr>\n",
              "  </thead>\n",
              "  <tbody>\n",
              "    <tr>\n",
              "      <th>0</th>\n",
              "      <td>Paris_0_512</td>\n",
              "      <td>512</td>\n",
              "      <td>512</td>\n",
              "      <td>509</td>\n",
              "      <td>48</td>\n",
              "      <td>12</td>\n",
              "      <td>495</td>\n",
              "      <td>551</td>\n",
              "      <td>39925</td>\n",
              "      <td>11.650400</td>\n",
              "      <td>A*</td>\n",
              "    </tr>\n",
              "    <tr>\n",
              "      <th>1</th>\n",
              "      <td>Berlin_0_512</td>\n",
              "      <td>512</td>\n",
              "      <td>512</td>\n",
              "      <td>487</td>\n",
              "      <td>504</td>\n",
              "      <td>14</td>\n",
              "      <td>42</td>\n",
              "      <td>612</td>\n",
              "      <td>35844</td>\n",
              "      <td>10.791809</td>\n",
              "      <td>A*</td>\n",
              "    </tr>\n",
              "    <tr>\n",
              "      <th>2</th>\n",
              "      <td>Shanghai_0_512</td>\n",
              "      <td>512</td>\n",
              "      <td>512</td>\n",
              "      <td>466</td>\n",
              "      <td>491</td>\n",
              "      <td>33</td>\n",
              "      <td>1</td>\n",
              "      <td>526</td>\n",
              "      <td>28465</td>\n",
              "      <td>8.527070</td>\n",
              "      <td>A*</td>\n",
              "    </tr>\n",
              "    <tr>\n",
              "      <th>3</th>\n",
              "      <td>Boston_0_512</td>\n",
              "      <td>512</td>\n",
              "      <td>512</td>\n",
              "      <td>24</td>\n",
              "      <td>458</td>\n",
              "      <td>263</td>\n",
              "      <td>9</td>\n",
              "      <td>571</td>\n",
              "      <td>127135</td>\n",
              "      <td>32.127829</td>\n",
              "      <td>A*</td>\n",
              "    </tr>\n",
              "    <tr>\n",
              "      <th>4</th>\n",
              "      <td>Denver_0_512</td>\n",
              "      <td>512</td>\n",
              "      <td>512</td>\n",
              "      <td>445</td>\n",
              "      <td>1</td>\n",
              "      <td>8</td>\n",
              "      <td>511</td>\n",
              "      <td>571</td>\n",
              "      <td>41641</td>\n",
              "      <td>10.578429</td>\n",
              "      <td>A*</td>\n",
              "    </tr>\n",
              "    <tr>\n",
              "      <th>5</th>\n",
              "      <td>Milan_0_512</td>\n",
              "      <td>512</td>\n",
              "      <td>512</td>\n",
              "      <td>506</td>\n",
              "      <td>341</td>\n",
              "      <td>110</td>\n",
              "      <td>3</td>\n",
              "      <td>571</td>\n",
              "      <td>134604</td>\n",
              "      <td>37.937904</td>\n",
              "      <td>A*</td>\n",
              "    </tr>\n",
              "    <tr>\n",
              "      <th>6</th>\n",
              "      <td>London_0_512</td>\n",
              "      <td>512</td>\n",
              "      <td>512</td>\n",
              "      <td>214</td>\n",
              "      <td>26</td>\n",
              "      <td>51</td>\n",
              "      <td>199</td>\n",
              "      <td>675</td>\n",
              "      <td>68016</td>\n",
              "      <td>10.317416</td>\n",
              "      <td>A*</td>\n",
              "    </tr>\n",
              "    <tr>\n",
              "      <th>7</th>\n",
              "      <td>NewYork_0_512</td>\n",
              "      <td>512</td>\n",
              "      <td>512</td>\n",
              "      <td>452</td>\n",
              "      <td>486</td>\n",
              "      <td>14</td>\n",
              "      <td>7</td>\n",
              "      <td>545</td>\n",
              "      <td>41103</td>\n",
              "      <td>14.148155</td>\n",
              "      <td>A*</td>\n",
              "    </tr>\n",
              "    <tr>\n",
              "      <th>8</th>\n",
              "      <td>Moscow_0_512</td>\n",
              "      <td>512</td>\n",
              "      <td>512</td>\n",
              "      <td>67</td>\n",
              "      <td>499</td>\n",
              "      <td>502</td>\n",
              "      <td>6</td>\n",
              "      <td>552</td>\n",
              "      <td>16188</td>\n",
              "      <td>3.537226</td>\n",
              "      <td>A*</td>\n",
              "    </tr>\n",
              "    <tr>\n",
              "      <th>9</th>\n",
              "      <td>Sydney_0_512</td>\n",
              "      <td>512</td>\n",
              "      <td>512</td>\n",
              "      <td>63</td>\n",
              "      <td>510</td>\n",
              "      <td>509</td>\n",
              "      <td>10</td>\n",
              "      <td>545</td>\n",
              "      <td>31189</td>\n",
              "      <td>8.190929</td>\n",
              "      <td>A*</td>\n",
              "    </tr>\n",
              "  </tbody>\n",
              "</table>\n",
              "</div>\n",
              "      <button class=\"colab-df-convert\" onclick=\"convertToInteractive('df-a2c45132-9d36-4961-ae34-055b042cd302')\"\n",
              "              title=\"Convert this dataframe to an interactive table.\"\n",
              "              style=\"display:none;\">\n",
              "        \n",
              "  <svg xmlns=\"http://www.w3.org/2000/svg\" height=\"24px\"viewBox=\"0 0 24 24\"\n",
              "       width=\"24px\">\n",
              "    <path d=\"M0 0h24v24H0V0z\" fill=\"none\"/>\n",
              "    <path d=\"M18.56 5.44l.94 2.06.94-2.06 2.06-.94-2.06-.94-.94-2.06-.94 2.06-2.06.94zm-11 1L8.5 8.5l.94-2.06 2.06-.94-2.06-.94L8.5 2.5l-.94 2.06-2.06.94zm10 10l.94 2.06.94-2.06 2.06-.94-2.06-.94-.94-2.06-.94 2.06-2.06.94z\"/><path d=\"M17.41 7.96l-1.37-1.37c-.4-.4-.92-.59-1.43-.59-.52 0-1.04.2-1.43.59L10.3 9.45l-7.72 7.72c-.78.78-.78 2.05 0 2.83L4 21.41c.39.39.9.59 1.41.59.51 0 1.02-.2 1.41-.59l7.78-7.78 2.81-2.81c.8-.78.8-2.07 0-2.86zM5.41 20L4 18.59l7.72-7.72 1.47 1.35L5.41 20z\"/>\n",
              "  </svg>\n",
              "      </button>\n",
              "      \n",
              "  <style>\n",
              "    .colab-df-container {\n",
              "      display:flex;\n",
              "      flex-wrap:wrap;\n",
              "      gap: 12px;\n",
              "    }\n",
              "\n",
              "    .colab-df-convert {\n",
              "      background-color: #E8F0FE;\n",
              "      border: none;\n",
              "      border-radius: 50%;\n",
              "      cursor: pointer;\n",
              "      display: none;\n",
              "      fill: #1967D2;\n",
              "      height: 32px;\n",
              "      padding: 0 0 0 0;\n",
              "      width: 32px;\n",
              "    }\n",
              "\n",
              "    .colab-df-convert:hover {\n",
              "      background-color: #E2EBFA;\n",
              "      box-shadow: 0px 1px 2px rgba(60, 64, 67, 0.3), 0px 1px 3px 1px rgba(60, 64, 67, 0.15);\n",
              "      fill: #174EA6;\n",
              "    }\n",
              "\n",
              "    [theme=dark] .colab-df-convert {\n",
              "      background-color: #3B4455;\n",
              "      fill: #D2E3FC;\n",
              "    }\n",
              "\n",
              "    [theme=dark] .colab-df-convert:hover {\n",
              "      background-color: #434B5C;\n",
              "      box-shadow: 0px 1px 3px 1px rgba(0, 0, 0, 0.15);\n",
              "      filter: drop-shadow(0px 1px 2px rgba(0, 0, 0, 0.3));\n",
              "      fill: #FFFFFF;\n",
              "    }\n",
              "  </style>\n",
              "\n",
              "      <script>\n",
              "        const buttonEl =\n",
              "          document.querySelector('#df-a2c45132-9d36-4961-ae34-055b042cd302 button.colab-df-convert');\n",
              "        buttonEl.style.display =\n",
              "          google.colab.kernel.accessAllowed ? 'block' : 'none';\n",
              "\n",
              "        async function convertToInteractive(key) {\n",
              "          const element = document.querySelector('#df-a2c45132-9d36-4961-ae34-055b042cd302');\n",
              "          const dataTable =\n",
              "            await google.colab.kernel.invokeFunction('convertToInteractive',\n",
              "                                                     [key], {});\n",
              "          if (!dataTable) return;\n",
              "\n",
              "          const docLinkHtml = 'Like what you see? Visit the ' +\n",
              "            '<a target=\"_blank\" href=https://colab.research.google.com/notebooks/data_table.ipynb>data table notebook</a>'\n",
              "            + ' to learn more about interactive tables.';\n",
              "          element.innerHTML = '';\n",
              "          dataTable['output_type'] = 'display_data';\n",
              "          await google.colab.output.renderOutput(dataTable, element);\n",
              "          const docLink = document.createElement('div');\n",
              "          docLink.innerHTML = docLinkHtml;\n",
              "          element.appendChild(docLink);\n",
              "        }\n",
              "      </script>\n",
              "    </div>\n",
              "  </div>\n",
              "  "
            ]
          },
          "metadata": {},
          "execution_count": 13
        }
      ]
    }
  ]
}